{
 "cells": [
  {
   "cell_type": "code",
   "execution_count": 2,
   "metadata": {},
   "outputs": [
    {
     "name": "stderr",
     "output_type": "stream",
     "text": [
      "C:\\Users\\82106\\AppData\\Local\\Temp\\ipykernel_36308\\910124912.py:4: DeprecationWarning: Please import `gaussian_filter1d` from the `scipy.ndimage` namespace; the `scipy.ndimage.filters` namespace is deprecated and will be removed in SciPy 2.0.0.\n",
      "  from scipy.ndimage.filters import gaussian_filter1d\n"
     ]
    }
   ],
   "source": [
    "import pandas as pd\n",
    "import matplotlib.pyplot as plt\n",
    "import numpy as np\n",
    "from scipy.ndimage.filters import gaussian_filter1d\n",
    "from copy import copy\n",
    "from pathlib import Path\n",
    "from utils.general import LOGGER, clip_boxes, increment_path, xywh2xyxy, xyxy2xywh"
   ]
  },
  {
   "cell_type": "code",
   "execution_count": null,
   "metadata": {},
   "outputs": [],
   "source": [
    "df = pd.read_csv('C://2024GEP/c_results.csv')"
   ]
  },
  {
   "cell_type": "code",
   "execution_count": 5,
   "metadata": {},
   "outputs": [
    {
     "name": "stdout",
     "output_type": "stream",
     "text": [
      "               epoch     train/box_loss     train/obj_loss     train/cls_loss  \\\n",
      "0                  0            0.11831            0.10518           0.044897   \n",
      "1                  1            0.10376            0.12523           0.042492   \n",
      "\n",
      "   metrics/precision  ...       val/obj_loss       val/cls_loss  \\\n",
      "0           0.007359  ...            0.10356           0.047252   \n",
      "1           0.118230  ...            0.11442           0.043243   \n",
      "\n",
      "               x/lr0              x/lr1              x/lr2  \n",
      "0           0.081100           0.002100           0.002100  \n",
      "1           0.061257           0.004257           0.004257  \n",
      "\n",
      "[2 rows x 14 columns]\n"
     ]
    }
   ],
   "source": [
    "print(df.head(2))\n"
   ]
  },
  {
   "cell_type": "code",
   "execution_count": 6,
   "metadata": {},
   "outputs": [],
   "source": [
    "def plot_results1(file='path/to/results.csv', save_dir=''):\n",
    "    # Load results.csv file\n",
    "    data = pd.read_csv(file)\n",
    "    \n",
    "    # Create plots\n",
    "    fig, ax = plt.subplots(2, 5, figsize=(15, 6), tight_layout=True)\n",
    "    ax = ax.ravel()\n",
    "    \n",
    "    # Titles and labels\n",
    "    titles = ['Box Loss', 'Objectness Loss', 'Classification Loss', 'Precision', 'Recall', \n",
    "              'mAP@0.5', 'mAP@0.5:0.95', 'Val Box Loss', 'Val Objectness Loss', 'Val Classification Loss']\n",
    "    labels = ['train/box_loss', 'train/obj_loss', 'train/cls_loss', 'metrics/precision', 'metrics/recall', \n",
    "              'metrics/mAP_0.5', 'metrics/mAP_0.5:0.95', 'val/box_loss', 'val/obj_loss', 'val/cls_loss']\n",
    "\n",
    "    # Plot data\n",
    "    for i in range(10):\n",
    "        y = data.iloc[:, i + 1].values  # Select column (skip first epoch column)\n",
    "        ax[i].plot(y, marker='.', label=labels[i])\n",
    "        ax[i].set_title(titles[i])\n",
    "        ax[i].legend()\n",
    "    \n",
    "    # Save plots\n",
    "    fig.savefig(f'{save_dir}/results.png', dpi=200)\n",
    "    plt.close(fig)"
   ]
  },
  {
   "cell_type": "code",
   "execution_count": 7,
   "metadata": {},
   "outputs": [],
   "source": [
    "plot_results1('C://2024GEP/c_results.csv', '.')"
   ]
  },
  {
   "cell_type": "code",
   "execution_count": 31,
   "metadata": {},
   "outputs": [],
   "source": [
    "def plot_results(file=\"path/to/results.csv\", dir=\"\"):\n",
    "    \"\"\"\n",
    "    Plots training results from a 'results.csv' file; accepts file path and directory as arguments.\n",
    "\n",
    "    Example: from utils.plots import *; plot_results('path/to/results.csv')\n",
    "    \"\"\"\n",
    "    save_dir = Path(file).parent if file else Path(dir)\n",
    "    fig, ax = plt.subplots(2, 5, figsize=(12, 6), tight_layout=True)\n",
    "    ax = ax.ravel()\n",
    "    files = list(save_dir.glob(\"results*.csv\"))\n",
    "    print(files)\n",
    "    assert len(files), f\"No results.csv files found in {save_dir.resolve()}, nothing to plot.\"\n",
    "    for f in files:\n",
    "        try:\n",
    "            data = pd.read_csv(f)\n",
    "            s = [x.strip() for x in data.columns]\n",
    "            print(s)\n",
    "            x = data.values[:, 0]\n",
    "            print(x)\n",
    "            for i, j in enumerate([1, 2, 3, 4, 5, 8, 9, 10, 6, 7]):\n",
    "                y = data.values[:, j].astype(\"float\")\n",
    "                # y[y == 0] = np.nan  # don't show zero values\n",
    "                ax[i].plot(x, y, marker=\".\", label=f.stem, linewidth=2, markersize=8)  # actual results\n",
    "                ax[i].plot(x, gaussian_filter1d(y, sigma=3), \":\", label=\"smooth\", linewidth=2)  # smoothing line\n",
    "                ax[i].set_title(s[j], fontsize=12)\n",
    "                # if j in [8, 9, 10]:  # share train and val loss y axes\n",
    "                #     ax[i].get_shared_y_axes().join(ax[i], ax[i - 5])\n",
    "        except Exception as e:\n",
    "            LOGGER.info(f\"Warning: Plotting error for {f}: {e}\")\n",
    "    ax[1].legend()\n",
    "    fig.savefig(save_dir / \"11results.png\", dpi=200)\n",
    "    plt.close()"
   ]
  },
  {
   "cell_type": "code",
   "execution_count": 32,
   "metadata": {},
   "outputs": [
    {
     "name": "stdout",
     "output_type": "stream",
     "text": [
      "[WindowsPath('C:/2024GEP/results11.csv')]\n",
      "['epoch', 'train/box_loss', 'train/obj_loss', 'train/cls_loss', 'metrics/precision', 'metrics/recall', 'metrics/mAP_0.5', 'metrics/mAP_0.5:0.95', 'val/box_loss', 'val/obj_loss', 'val/cls_loss', 'x/lr0', 'x/lr1', 'x/lr2']\n",
      "[          0           1           2           3           4           5           6           7           8           9          10          11          12          13          14          15          16          17          18          19          20          21          22          23          24          25\n",
      "          26          27          28          29          30          31          32          33          34          35          36          37          38          39          40          41          42          43          44          45          46          47          48          49          50          51\n",
      "          52          53          54          55          56          57          58          59          60          61          62          63          64          65          66          67          68          69          70          71          72          73          74          75          76          77\n",
      "          78          79          80          81          82          83          84          85          86          87          88          89          90          91          92          93          94          95          96          97          98          99         100         101         102         103\n",
      "         104         105         106         107         108         109         110         111         112         113         114         115         116         117         118         119         120         121         122         123         124         125         126         127         128         129\n",
      "         130         131         132         133         134         135         136         137         138         139         140         141         142         143         144         145         146         147         148         149         150         151         152         153         154         155\n",
      "         156         157         158         159         160         161         162         163         164         165         166         167         168         169         170         171         172         173         174         175         176         177         178         179         180         181\n",
      "         182         183         184         185         186         187         188         189         190         191         192         193         194         195         196         197         198         199         200         201         202         203         204         205         206         207\n",
      "         208         209         210         211         212         213         214         215         216         217         218         219         220         221         222         223         224         225         226         227         228         229         230         231         232         233\n",
      "         234         235         236         237         238         239         240         241         242         243         244         245         246         247         248         249         250         251         252         253         254         255         256         257         258         259\n",
      "         260         261         262         263         264         265         266         267         268         269         270         271         272         273         274         275         276         277         278         279         280         281         282         283         284         285\n",
      "         286         287         288         289         290         291         292         293         294         295         296         297         298         299]\n"
     ]
    }
   ],
   "source": [
    "plot_results('C://2024GEP/c_results.csv')"
   ]
  },
  {
   "cell_type": "code",
   "execution_count": 51,
   "metadata": {},
   "outputs": [],
   "source": [
    "def plot_results2(file=\"path/to/results.csv\", dir=\"\"):\n",
    "    \"\"\"\n",
    "    Plots training results from a 'results.csv' file; accepts file path and directory as arguments.\n",
    "\n",
    "    Example: from utils.plots import *; plot_results('path/to/results.csv')\n",
    "    \"\"\"\n",
    "    save_dir = Path(file).parent if file else Path(dir)\n",
    "    fig, ax = plt.subplots(1, 2, figsize=(10, 5), tight_layout=True)\n",
    "    ax = ax.ravel()\n",
    "    files = list(save_dir.glob(\"results*.csv\"))\n",
    "    assert len(files), f\"No results.csv files found in {save_dir.resolve()}, nothing to plot.\"\n",
    "    for f in files:\n",
    "        try:\n",
    "            data = pd.read_csv(f)\n",
    "            s = [x.strip() for x in data.columns]\n",
    "            x = data.values[:, 0]\n",
    "            for i, j in enumerate([3, 7]):\n",
    "                y = data.values[:, j].astype(\"float\")\n",
    "                # y[y == 0] = np.nan  # don't show zero values\n",
    "                ax[i].plot(x, y, marker=\".\", label=f.stem, linewidth=2, markersize=8)  # actual results\n",
    "                ax[i].plot(x, gaussian_filter1d(y, sigma=3), \":\", label=\"smooth\", linewidth=2)  # smoothing line\n",
    "                # ax[i].set_title(s[j], fontsize=25)\n",
    "                # if j in [8, 9, 10]:  # share train and val loss y axes\n",
    "                #     ax[i].get_shared_y_axes().join(ax[i], ax[i - 5])\n",
    "        except Exception as e:\n",
    "            LOGGER.info(f\"Warning: Plotting error for {f}: {e}\")\n",
    "    # ax[1].legend()\n",
    "    fig.savefig(save_dir / \"33results.png\", dpi=200)\n",
    "    plt.close()"
   ]
  },
  {
   "cell_type": "code",
   "execution_count": 3,
   "metadata": {},
   "outputs": [],
   "source": [
    "def plot_r(file=\"path/to/results.csv\", dir=\"\", num=3):\n",
    "    save_dir = Path(file).parent if file else Path(dir)\n",
    "    files = list(save_dir.glob(\"results*.csv\"))\n",
    "    for f in files:\n",
    "        data = pd.read_csv(f)\n",
    "        s = [x.strip() for x in data.columns]\n",
    "        x = data.values[:, 0]\n",
    "        \n",
    "        y = data.values[:, num].astype(\"float\")\n",
    "        plt.plot(x, y, marker=\".\", label=f.stem, linewidth=2, markersize=8)  # actual results\n",
    "        plt.plot(x, gaussian_filter1d(y, sigma=3), \":\", label=\"smooth\", linewidth=2)  # smoothing line\n",
    "    plt.savefig(save_dir / f\"44results_{num}.png\", dpi=200)\n",
    "    plt.show()"
   ]
  },
  {
   "cell_type": "code",
   "execution_count": 8,
   "metadata": {},
   "outputs": [
    {
     "data": {
      "image/png": "[encoded data removed]",
      "text/plain": [
       "<Figure size 640x480 with 1 Axes>"
      ]
     },
     "metadata": {},
     "output_type": "display_data"
    }
   ],
   "source": [
    "# 차트에 들어간거 num=3, 7\n",
    "plot_r('C://2024GEP/c_results.csv', num=2)"
   ]
  },
  {
   "cell_type": "code",
   "execution_count": 52,
   "metadata": {},
   "outputs": [],
   "source": [
    "plot_results2('C://2024GEP/c_results.csv')"
   ]
  },
  {
   "cell_type": "code",
   "execution_count": null,
   "metadata": {},
   "outputs": [],
   "source": [
    "plt.plot()"
   ]
  },
  {
   "cell_type": "code",
   "execution_count": 67,
   "metadata": {},
   "outputs": [],
   "source": [
    "def plot_results3(file=\"path/to/results.csv\", dir=\"\"):\n",
    "    \"\"\"\n",
    "    Plots training results from a 'results.csv' file; accepts file path and directory as arguments.\n",
    "\n",
    "    Example: from utils.plots import *; plot_results('path/to/results.csv')\n",
    "    \"\"\"\n",
    "    save_dir = Path(file).parent if file else Path(dir)\n",
    "    fig, ax = plt.subplots(1, 1, figsize=(12, 10), tight_layout=True)\n",
    "    # ax = ax.ravel()\n",
    "    files = list(save_dir.glob(\"results*.csv\"))\n",
    "    assert len(files), f\"No results.csv files found in {save_dir.resolve()}, nothing to plot.\"\n",
    "    for f in files:\n",
    "        try:\n",
    "            data = pd.read_csv(f)\n",
    "            s = [x.strip() for x in data.columns]\n",
    "            x = data.values[:, 0]\n",
    "            for i, j in enumerate([3]):\n",
    "                y = data.values[:, j].astype(\"float\")\n",
    "                # y[y == 0] = np.nan  # don't show zero values\n",
    "                ax[i].plot(x, y, marker=\".\", label=f.stem, linewidth=2, markersize=8)  # actual results\n",
    "                ax[i].plot(x, gaussian_filter1d(y, sigma=3), \":\", label=\"smooth\", linewidth=2)  # smoothing line\n",
    "                # ax[i].set_title(s[j], fontsize=25)\n",
    "                # if j in [8, 9, 10]:  # share train and val loss y axes\n",
    "                #     ax[i].get_shared_y_axes().join(ax[i], ax[i - 5])\n",
    "        except Exception as e:\n",
    "            LOGGER.info(f\"Warning: Plotting error for {f}: {e}\")\n",
    "    # ax[1].legend()\n",
    "    fig.savefig(save_dir / \"55results.png\", dpi=200)\n",
    "    plt.close()"
   ]
  },
  {
   "cell_type": "code",
   "execution_count": 66,
   "metadata": {},
   "outputs": [
    {
     "name": "stderr",
     "output_type": "stream",
     "text": [
      "Warning: Plotting error for C:\\2024GEP\\results11.csv: 'Axes' object is not subscriptable\n"
     ]
    }
   ],
   "source": [
    "plot_results3('C://2024GEP/c_results.csv')"
   ]
  }
 ],
 "metadata": {
  "kernelspec": {
   "display_name": "VENV",
   "language": "python",
   "name": "python3"
  },
  "language_info": {
   "codemirror_mode": {
    "name": "ipython",
    "version": 3
   },
   "file_extension": ".py",
   "mimetype": "text/x-python",
   "name": "python",
   "nbconvert_exporter": "python",
   "pygments_lexer": "ipython3",
   "version": "3.11.3"
  }
 },
 "nbformat": 4,
 "nbformat_minor": 2
}
