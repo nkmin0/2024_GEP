{
 "cells": [
  {
   "cell_type": "code",
   "execution_count": 1,
   "metadata": {},
   "outputs": [
    {
     "name": "stdout",
     "output_type": "stream",
     "text": [
      "c:\\2024GEP\\yolov5\n"
     ]
    },
    {
     "name": "stderr",
     "output_type": "stream",
     "text": [
      "c:\\2024GEP\\VENV\\Lib\\site-packages\\IPython\\core\\magics\\osm.py:417: UserWarning: This is now an optional IPython functionality, setting dhist requires you to install the `pickleshare` library.\n",
      "  self.shell.db['dhist'] = compress_dhist(dhist)[-100:]\n"
     ]
    }
   ],
   "source": [
    "%cd yolov5"
   ]
  },
  {
   "cell_type": "code",
   "execution_count": 5,
   "metadata": {},
   "outputs": [
    {
     "name": "stderr",
     "output_type": "stream",
     "text": [
      "\u001b[34m\u001b[1mdetect: \u001b[0mweights=['C:/2024GEP/yolov5/runs/train/GEP_model5/weights/best.pt'], source=C:/2024GEP/test, data=data\\coco128.yaml, imgsz=[640, 640], conf_thres=0.25, iou_thres=0.45, max_det=1000, device=, view_img=False, save_txt=False, save_csv=False, save_conf=False, save_crop=False, nosave=False, classes=None, agnostic_nms=False, augment=False, visualize=False, update=False, project=runs\\detect, name=exp, exist_ok=False, line_thickness=3, hide_labels=False, hide_conf=False, half=False, dnn=False, vid_stride=1\n",
      "YOLOv5  v7.0-314-g60dde7f1 Python-3.11.3 torch-2.3.0+cpu CPU\n",
      "\n",
      "Fusing layers... \n",
      "YOLOv5s summary: 157 layers, 7034398 parameters, 0 gradients, 15.8 GFLOPs\n",
      "image 1/3 C:\\2024GEP\\test\\001.jpg: 384x640 12 1s, 197.8ms\n",
      "image 2/3 C:\\2024GEP\\test\\002.jpg: 384x640 2 1s, 7 3s, 99.8ms\n",
      "image 3/3 C:\\2024GEP\\test\\003.jpg: 384x640 12 1s, 98.7ms\n",
      "Speed: 2.8ms pre-process, 132.1ms inference, 1.0ms NMS per image at shape (1, 3, 640, 640)\n",
      "Results saved to \u001b[1mruns\\detect\\exp15\u001b[0m\n"
     ]
    }
   ],
   "source": [
    "!python detect.py --source \"C:/2024GEP/test\" --weights \"C:/2024GEP/yolov5/runs/train/GEP_model5/weights/best.pt\""
   ]
  },
  {
   "cell_type": "code",
   "execution_count": 4,
   "metadata": {},
   "outputs": [
    {
     "name": "stderr",
     "output_type": "stream",
     "text": [
      "\u001b[34m\u001b[1mdetect: \u001b[0mweights=['C:/2024GEP/yolov5/runs/train/GEP_model9/weights/best.pt'], source=C:/2024GEP/videos/gogi_experiment_9.mp4, data=data\\coco128.yaml, imgsz=[640, 640], conf_thres=0.25, iou_thres=0.45, max_det=1000, device=, view_img=False, save_txt=False, save_csv=False, save_conf=False, save_crop=False, nosave=False, classes=None, agnostic_nms=False, augment=False, visualize=False, update=False, project=runs\\detect, name=exp, exist_ok=False, line_thickness=3, hide_labels=False, hide_conf=False, half=False, dnn=False, vid_stride=1\n",
      "YOLOv5  v7.0-314-g60dde7f1 Python-3.11.3 torch-2.3.0+cpu CPU\n",
      "\n",
      "Traceback (most recent call last):\n",
      "  File \"c:\\2024GEP\\yolov5\\detect.py\", line 312, in <module>\n",
      "    main(opt)\n",
      "  File \"c:\\2024GEP\\yolov5\\detect.py\", line 307, in main\n",
      "    run(**vars(opt))\n",
      "  File \"c:\\2024GEP\\VENV\\Lib\\site-packages\\torch\\utils\\_contextlib.py\", line 115, in decorate_context\n",
      "    return func(*args, **kwargs)\n",
      "           ^^^^^^^^^^^^^^^^^^^^^\n",
      "  File \"c:\\2024GEP\\yolov5\\detect.py\", line 115, in run\n",
      "    model = DetectMultiBackend(weights, device=device, dnn=dnn, data=data, fp16=half)\n",
      "            ^^^^^^^^^^^^^^^^^^^^^^^^^^^^^^^^^^^^^^^^^^^^^^^^^^^^^^^^^^^^^^^^^^^^^^^^^\n",
      "  File \"c:\\2024GEP\\yolov5\\models\\common.py\", line 467, in __init__\n",
      "    model = attempt_load(weights if isinstance(weights, list) else w, device=device, inplace=True, fuse=fuse)\n",
      "            ^^^^^^^^^^^^^^^^^^^^^^^^^^^^^^^^^^^^^^^^^^^^^^^^^^^^^^^^^^^^^^^^^^^^^^^^^^^^^^^^^^^^^^^^^^^^^^^^^\n",
      "  File \"c:\\2024GEP\\yolov5\\models\\experimental.py\", line 98, in attempt_load\n",
      "    ckpt = torch.load(attempt_download(w), map_location=\"cpu\")  # load\n",
      "           ^^^^^^^^^^^^^^^^^^^^^^^^^^^^^^^^^^^^^^^^^^^^^^^^^^^\n",
      "  File \"c:\\2024GEP\\VENV\\Lib\\site-packages\\torch\\serialization.py\", line 1025, in load\n",
      "    return _load(opened_zipfile,\n",
      "           ^^^^^^^^^^^^^^^^^^^^^\n",
      "  File \"c:\\2024GEP\\VENV\\Lib\\site-packages\\torch\\serialization.py\", line 1446, in _load\n",
      "    result = unpickler.load()\n",
      "             ^^^^^^^^^^^^^^^^\n",
      "  File \"C:\\Python311\\Lib\\pathlib.py\", line 873, in __new__\n",
      "    raise NotImplementedError(\"cannot instantiate %r on your system\"\n",
      "NotImplementedError: cannot instantiate 'PosixPath' on your system\n"
     ]
    }
   ],
   "source": [
    "!python detect.py --source \"C:/2024GEP/videos/gogi_experiment_9.mp4\" --weights \"C:/2024GEP/yolov5/runs/train/GEP_model9/weights/best.pt\""
   ]
  },
  {
   "cell_type": "code",
   "execution_count": null,
   "metadata": {},
   "outputs": [],
   "source": [
    "!python detect.py --source https://www.youtube.com/watch?v=67n17xBJ5Ck --weights \"C:/2024GEP/yolov5/runs/train/GEP_model4/weights/best.pt\""
   ]
  }
 ],
 "metadata": {
  "kernelspec": {
   "display_name": "VENV",
   "language": "python",
   "name": "python3"
  },
  "language_info": {
   "codemirror_mode": {
    "name": "ipython",
    "version": 3
   },
   "file_extension": ".py",
   "mimetype": "text/x-python",
   "name": "python",
   "nbconvert_exporter": "python",
   "pygments_lexer": "ipython3",
   "version": "3.11.3"
  }
 },
 "nbformat": 4,
 "nbformat_minor": 2
}
